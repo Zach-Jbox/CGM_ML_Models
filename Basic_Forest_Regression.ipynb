{
 "cells": [
  {
   "cell_type": "code",
   "execution_count": null,
   "metadata": {},
   "outputs": [],
   "source": [
    "import pandas as pd\n",
    "from sklearn.ensemble import RandomForestRegressor\n",
    "from sklearn.model_selection import train_test_split\n",
    "from sklearn.metrics import mean_squared_error\n",
    "import numpy as np\n",
    "import matplotlib.pyplot as plt\n",
    "from datetime import timedelta\n",
    "from sklearn.linear_model import LinearRegression"
   ]
  },
  {
   "cell_type": "code",
   "execution_count": null,
   "metadata": {},
   "outputs": [],
   "source": [
    "df = pd.read_csv('CGMData/03-05-2024-03-18-2024.csv')\n",
    "display(df)"
   ]
  },
  {
   "cell_type": "code",
   "execution_count": null,
   "metadata": {},
   "outputs": [],
   "source": [
    "df = df.drop(columns=['SerialNumber', 'Description', 'DeviceType'])\n",
    "display(df)"
   ]
  },
  {
   "cell_type": "code",
   "execution_count": null,
   "metadata": {},
   "outputs": [],
   "source": [
    "# Convert the 'DateTime' column to datetime format\n",
    "df['DateTime'] = pd.to_datetime(df['EventDateTime'], format='%m/%d/%Y %H:%M')\n",
    "\n",
    "# Extract hour and minute features\n",
    "df['Hour'] = df['DateTime'].dt.hour\n",
    "df['Minute'] = df['DateTime'].dt.minute\n",
    "\n",
    "df = df.drop(columns=['EventDateTime'])\n",
    "\n",
    "display(df)"
   ]
  },
  {
   "cell_type": "code",
   "execution_count": null,
   "metadata": {},
   "outputs": [],
   "source": [
    "df = df.dropna()\n",
    "\n",
    "last_3_days_data = df[df['DateTime'] >= df['DateTime'].max() - timedelta(days=3)]\n",
    "\n",
    "# Split the data into training and testing sets\n",
    "X = last_3_days_data[['Hour', 'Minute']]\n",
    "y = last_3_days_data['Readings (CGM / BGM)']\n",
    "X_train, X_test, y_train, y_test = train_test_split(X, y, test_size=0.2, random_state=0)\n",
    "\n",
    "# Train the RandomForestRegression model\n",
    "rf = RandomForestRegressor(n_estimators=100, random_state=0)\n",
    "rf.fit(X_train, y_train)\n",
    "\n",
    "# Make predictions for 30 minutes into the future\n",
    "predictions = rf.predict(X_test)\n",
    "\n",
    "# Calculate and print the Mean Squared Error (MSE)\n",
    "mse = mean_squared_error(y_test, predictions)\n",
    "print(f'Mean Squared Error: {mse}')\n",
    "\n",
    "# Example prediction for the next 30 minutes\n",
    "next_hour = df['Hour'].iloc[-1]  # Assuming the last entry in the DataFrame is the latest hour\n",
    "next_minute = df['Minute'].iloc[-1] + 30  # Adding 30 minutes to the latest minute\n",
    "if next_minute >= 60:\n",
    "    next_hour += 1\n",
    "    next_minute -= 60\n",
    "prediction_input = np.array([[next_hour, next_minute]])\n",
    "next_prediction = rf.predict(prediction_input)\n",
    "print(f'Predicted glucose reading for {next_hour:02d}:{next_minute:02d}: {next_prediction[0]}')"
   ]
  },
  {
   "cell_type": "code",
   "execution_count": null,
   "metadata": {},
   "outputs": [],
   "source": [
    "# Filter the DataFrame to include only the data for the last 3 days\n",
    "last_3_days_data = df[df['DateTime'] >= df['DateTime'].max() - timedelta(days=3)]\n",
    "\n",
    "# Make predictions for the last 3 days\n",
    "#predictions = rf.predict(last_3_days_data[['Hour', 'Minute']])\n",
    "\n",
    "# Plot the actual and predicted glucose readings for the last 3 days\n",
    "plt.figure(figsize=(12, 6))\n",
    "plt.plot(last_3_days_data['DateTime'], last_3_days_data['Readings (CGM / BGM)'], label='Actual Readings')\n",
    "plt.plot(last_3_days_data['DateTime'], predictions, label='Predicted Readings', linestyle='--')\n",
    "plt.xlabel('Date and Time')\n",
    "plt.ylabel('Glucose Readings')\n",
    "plt.title('Actual vs. Predicted Glucose Readings for Last 3 Days')\n",
    "plt.legend()\n",
    "plt.xticks(rotation=45)\n",
    "plt.tight_layout()\n",
    "plt.show()"
   ]
  },
  {
   "cell_type": "code",
   "execution_count": null,
   "metadata": {},
   "outputs": [],
   "source": []
  }
 ],
 "metadata": {
  "language_info": {
   "name": "python"
  }
 },
 "nbformat": 4,
 "nbformat_minor": 2
}
